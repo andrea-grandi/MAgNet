{
 "cells": [
  {
   "cell_type": "code",
   "execution_count": 1,
   "id": "2c41bae5-b1db-44b6-b8e6-04020e8fb0a7",
   "metadata": {
    "ExecuteTime": {
     "end_time": "2025-02-17T02:30:00.707670Z",
     "start_time": "2025-02-17T02:30:00.688390Z"
    }
   },
   "outputs": [
    {
     "name": "stdout",
     "output_type": "stream",
     "text": [
      "Python version: 3.11.6 (main, Oct  2 2023, 20:31:07) [Clang 16.0.3 ]\n"
     ]
    }
   ],
   "source": [
    "import sys\n",
    "print(\"Python version:\", sys.version)"
   ]
  },
  {
   "cell_type": "code",
   "execution_count": 2,
   "id": "a6569e533723a33",
   "metadata": {
    "ExecuteTime": {
     "end_time": "2025-02-17T02:30:18.639395Z",
     "start_time": "2025-02-17T02:30:18.623340Z"
    },
    "collapsed": false
   },
   "outputs": [
    {
     "name": "stdout",
     "output_type": "stream",
     "text": [
      "✅ All dependencies installed successfully!\n"
     ]
    }
   ],
   "source": [
    "import openai\n",
    "import dotenv\n",
    "import graphviz\n",
    "import colorama\n",
    "print(\"✅ All dependencies installed successfully!\")"
   ]
  },
  {
   "cell_type": "markdown",
   "id": "f786e114-cde4-400e-8781-fb7f48bd072c",
   "metadata": {},
   "source": [
    "## The Agent Class"
   ]
  },
  {
   "cell_type": "markdown",
   "id": "ec27b59f-82c6-4b21-917c-fa6d64c1e614",
   "metadata": {},
   "source": [
    "First of all, we need an **Agent Class**. This class implements an Agent, and internally it implements the ReAct technique."
   ]
  },
  {
   "cell_type": "code",
   "execution_count": 3,
   "id": "69780ba5-c321-4d71-b0aa-35b1d6c55ff3",
   "metadata": {
    "ExecuteTime": {
     "end_time": "2025-02-17T02:30:25.401302Z",
     "start_time": "2025-02-17T02:30:25.387369Z"
    }
   },
   "outputs": [
    {
     "name": "stdout",
     "output_type": "stream",
     "text": [
      "API Key set: True\n"
     ]
    }
   ],
   "source": [
    "import os\n",
    "\n",
    "from dotenv import load_dotenv\n",
    "\n",
    "load_dotenv()\n",
    "\n",
    "OPENAI_API_KEY = os.getenv(\"OPENAI_API_KEY\")\n",
    "print(\"API Key set:\", os.getenv(\"OPENAI_API_KEY\") is not None)"
   ]
  },
  {
   "cell_type": "code",
   "execution_count": 4,
   "id": "3ccb0001842f2bb4",
   "metadata": {
    "ExecuteTime": {
     "end_time": "2025-02-17T02:30:27.275139Z",
     "start_time": "2025-02-17T02:30:27.205293Z"
    },
    "collapsed": false
   },
   "outputs": [
    {
     "name": "stdout",
     "output_type": "stream",
     "text": [
      "✅ Agent imported successfully!\n"
     ]
    }
   ],
   "source": [
    "sys.path.append(os.path.abspath(os.path.join(os.getcwd(), '..')))\n",
    "from magnet.agents.multi_agent.agent import Agent\n",
    "print(\"✅ Agent imported successfully!\")"
   ]
  },
  {
   "cell_type": "markdown",
   "id": "6ba412fb-9604-4146-93bb-ed0451c529f8",
   "metadata": {},
   "source": [
    "Let's create some example agent, to see how it works."
   ]
  },
  {
   "cell_type": "code",
   "execution_count": 5,
   "id": "3aa589d5-7825-4fe0-a269-f35474bf6da5",
   "metadata": {},
   "outputs": [],
   "source": [
    "agent_example = Agent(\n",
    "    name=\"Poet Agent\",\n",
    "    backstory=\"You are a well-known poet, who enjoys creating high quality poetry.\",\n",
    "    task_description=\"Write a poem about the meaning of life\",\n",
    "    task_expected_output=\"Just output the poem, without any title or introductory sentences\",\n",
    ")"
   ]
  },
  {
   "cell_type": "code",
   "execution_count": 6,
   "id": "fd71e1e3-893f-40e1-b6c5-f15e42beb851",
   "metadata": {},
   "outputs": [
    {
     "name": "stdout",
     "output_type": "stream",
     "text": [
      "In the cradle of dawn, where whispers reside,  \n",
      "Life unfurls its tapestry, vast and wide.  \n",
      "A dance of shadows, a play of light,  \n",
      "In the heart of chaos, a quest for right.  \n",
      "\n",
      "From the gentle sigh of the morning breeze,  \n",
      "To the rustling leaves on ancient trees,  \n",
      "Life's meaning hides in moments small,  \n",
      "In the rise and fall, the call of all.  \n",
      "\n",
      "In laughter shared and tears that fall,  \n",
      "In the silent echoes of a lover's call,  \n",
      "In dreams that soar on wings of night,  \n",
      "In the courage found to face the fight.  \n",
      "\n",
      "It's in the stories etched on wrinkled skin,  \n",
      "In the battles lost, and those we win,  \n",
      "In the fleeting glance of a stranger's eye,  \n",
      "In the questions asked when we wonder why.  \n",
      "\n",
      "Life's meaning, a puzzle, a mystery profound,  \n",
      "In the spaces between, where silence is found.  \n",
      "In love's embrace and time's gentle theft,  \n",
      "In the heart's deep echo, the soul's quiet heft.  \n",
      "\n",
      "So seek not far, nor high, nor wide,  \n",
      "For life's true meaning dwells inside.  \n",
      "In the simple breath, the present now,  \n",
      "In the sacred promise of each new vow.  \n"
     ]
    }
   ],
   "source": [
    "print(agent_example.run())"
   ]
  },
  {
   "cell_type": "markdown",
   "id": "a8e0e4aa-cce0-4648-a6fd-eac244662874",
   "metadata": {},
   "source": [
    "You can also associate tools with the agent. Let's create a tool for writing some string into a CSV."
   ]
  },
  {
   "cell_type": "code",
   "execution_count": 7,
   "id": "b7fae777-3bf6-4be5-8ab8-de79f545d25a",
   "metadata": {},
   "outputs": [],
   "source": [
    "from magnet.agents.tool_agent.tool import tool"
   ]
  },
  {
   "cell_type": "code",
   "execution_count": 8,
   "id": "4016dc0d-cc7f-4e7a-b971-2ecfd31b79cf",
   "metadata": {},
   "outputs": [],
   "source": [
    "@tool\n",
    "def write_str_to_txt(string_data: str, txt_filename: str):\n",
    "    \"\"\"\n",
    "    Writes a string to a txt file.\n",
    "\n",
    "    This function takes a string and writes it to a text file. If the file already exists, \n",
    "    it will be overwritten with the new data.\n",
    "\n",
    "    Args:\n",
    "        string_data (str): The string containing the data to be written to the file.\n",
    "        txt_filename (str): The name of the text file to which the data should be written.\n",
    "    \"\"\"\n",
    "    # Write the string data to the text file\n",
    "    with open(txt_filename, mode='w', encoding='utf-8') as file:\n",
    "        file.write(string_data)\n",
    "\n",
    "    print(f\"Data successfully written to {txt_filename}\")"
   ]
  },
  {
   "cell_type": "code",
   "execution_count": 9,
   "id": "7ed9d5c5-6a1a-4510-85a1-5c03c2d2fa37",
   "metadata": {},
   "outputs": [],
   "source": [
    "agent_tool_example = Agent(\n",
    "    name=\"Writer Agent\",\n",
    "    backstory=\"You are a language model specialised in writing text into .txt files\",\n",
    "    task_description=\"Write the string 'This is a Tool Agent' into './tool_agent_example.txt'\",\n",
    "    task_expected_output=\"A .txt file containing the given string\",\n",
    "    tools=write_str_to_txt, # type: ignore\n",
    ")"
   ]
  },
  {
   "cell_type": "code",
   "execution_count": 10,
   "id": "a6214dc3-e24f-430c-99f0-6a8fe484d8ba",
   "metadata": {},
   "outputs": [
    {
     "name": "stdout",
     "output_type": "stream",
     "text": [
      "\u001b[35m\n",
      "Thought: I need to write the string 'This is a Tool Agent' into a file named 'tool_agent_example.txt'.\n",
      "\u001b[32m\n",
      "Using Tool: write_str_to_txt\n",
      "\u001b[32m\n",
      "Tool call dict: \n",
      "{'name': 'write_str_to_txt', 'arguments': {'string_data': 'This is a Tool Agent', 'txt_filename': './tool_agent_example.txt'}, 'id': 0}\n",
      "Data successfully written to ./tool_agent_example.txt\n",
      "\u001b[32m\n",
      "Tool result: \n",
      "None\n",
      "\u001b[34m\n",
      "Observations: {0: None}\n"
     ]
    },
    {
     "data": {
      "text/plain": [
       "\"The string 'This is a Tool Agent' has been successfully written to './tool_agent_example.txt'.\""
      ]
     },
     "execution_count": 10,
     "metadata": {},
     "output_type": "execute_result"
    }
   ],
   "source": [
    "agent_tool_example.run()"
   ]
  },
  {
   "cell_type": "markdown",
   "id": "026c6229-5833-4a99-afa6-e45cc72fb04d",
   "metadata": {},
   "source": [
    "## Defining Agent Dependencies"
   ]
  },
  {
   "cell_type": "markdown",
   "id": "ab6688e9-1fdf-4b51-bb33-c63c80ce9bb7",
   "metadata": {},
   "source": [
    "Let's define two agents now."
   ]
  },
  {
   "cell_type": "code",
   "execution_count": 11,
   "id": "bf142278-b556-42cb-9a5e-2761af96f5c0",
   "metadata": {},
   "outputs": [],
   "source": [
    "agent_1 = Agent(\n",
    "    name=\"Poet Agent\",\n",
    "    backstory=\"You are a well-known poet, who enjoys creating high quality poetry.\",\n",
    "    task_description=\"Write a poem about the meaning of life\",\n",
    "    task_expected_output=\"Just output the poem, without any title or introductory sentences\",\n",
    ")\n",
    "\n",
    "agent_2 = Agent(\n",
    "    name=\"Poem Translator Agent\",\n",
    "    backstory=\"You are an expert translator especially skilled in Ancient Greek\",\n",
    "    task_description=\"Translate a poem into Ancient Greek\", \n",
    "    task_expected_output=\"Just output the translated poem and nothing else\"\n",
    ")"
   ]
  },
  {
   "cell_type": "markdown",
   "id": "565d174d-ab42-4318-b53a-1ed142512f4f",
   "metadata": {},
   "source": [
    "We can define the agent dependencies using the `>>` operator."
   ]
  },
  {
   "cell_type": "code",
   "execution_count": 12,
   "id": "f52347ac-99b3-4695-a6a4-cf31f7784826",
   "metadata": {},
   "outputs": [
    {
     "data": {
      "text/plain": [
       "Poem Translator Agent"
      ]
     },
     "execution_count": 12,
     "metadata": {},
     "output_type": "execute_result"
    }
   ],
   "source": [
    "agent_1 >> agent_2"
   ]
  },
  {
   "cell_type": "markdown",
   "id": "603e5a0d-25ef-4fdf-8ed8-63bd50f90cfd",
   "metadata": {},
   "source": [
    "This means `agent_2` depends on `agent_1`. We can check the dependencies and dependents of both agents."
   ]
  },
  {
   "cell_type": "code",
   "execution_count": 13,
   "id": "560148d0-ae20-45ba-b22f-938eda0be64d",
   "metadata": {},
   "outputs": [
    {
     "name": "stdout",
     "output_type": "stream",
     "text": [
      "Agent 1 dependencies:  []\n",
      "Agent 1 dependents:  [Poem Translator Agent]\n",
      "Agent 2 dependencies:  [Poet Agent]\n",
      "Agent 2 dependents:  []\n"
     ]
    }
   ],
   "source": [
    "print(\"Agent 1 dependencies: \", agent_1.dependencies)\n",
    "print(\"Agent 1 dependents: \", agent_1.dependents)\n",
    "print(\"Agent 2 dependencies: \", agent_2.dependencies)\n",
    "print(\"Agent 2 dependents: \", agent_2.dependents)"
   ]
  },
  {
   "cell_type": "markdown",
   "id": "e9276064-136c-49bc-ae95-4d2b2ba47187",
   "metadata": {},
   "source": [
    "Now, if we run `agent_1`, the results will be added to `agent_2`'s context."
   ]
  },
  {
   "cell_type": "code",
   "execution_count": 14,
   "id": "26f58fda-3673-4067-ad0b-a4055a476a32",
   "metadata": {},
   "outputs": [
    {
     "name": "stdout",
     "output_type": "stream",
     "text": [
      "In the dance of dawn, where whispers weave,  \n",
      "Life unfurls its tapestry, threads interleave.  \n",
      "Moments like stars in the vast cosmic sea,  \n",
      "Each a spark of wonder, wild and free.  \n",
      "\n",
      "In laughter's echo and in sorrow's tear,  \n",
      "Life finds its meaning, both far and near.  \n",
      "In the gentle touch of a lover's hand,  \n",
      "In dreams that drift like grains of sand.  \n",
      "\n",
      "Through valleys deep and mountains high,  \n",
      "In the silent gaze of the endless sky,  \n",
      "Life's essence blooms in the heart's embrace,  \n",
      "A journey of love, a timeless chase.  \n",
      "\n",
      "In the quiet of night, when shadows play,  \n",
      "Life whispers secrets in a soft ballet.  \n",
      "In every heartbeat, in every breath,  \n",
      "Life dances on, defying death.  \n",
      "\n",
      "For meaning lies not in the end we seek,  \n",
      "But in the moments that make us weak,  \n",
      "In the courage to rise, to fall, to strive,  \n",
      "In the simple truth that we are alive.  \n"
     ]
    }
   ],
   "source": [
    "print(agent_1.run())"
   ]
  },
  {
   "cell_type": "code",
   "execution_count": 15,
   "id": "cd3dccc9-c201-4a70-bebf-1b9b83b7f59d",
   "metadata": {},
   "outputs": [
    {
     "name": "stdout",
     "output_type": "stream",
     "text": [
      "Poem Translator Agent received context: \n",
      "In the dance of dawn, where whispers weave,  \n",
      "Life unfurls its tapestry, threads interleave.  \n",
      "Moments like stars in the vast cosmic sea,  \n",
      "Each a spark of wonder, wild and free.  \n",
      "\n",
      "In laughter's echo and in sorrow's tear,  \n",
      "Life finds its meaning, both far and near.  \n",
      "In the gentle touch of a lover's hand,  \n",
      "In dreams that drift like grains of sand.  \n",
      "\n",
      "Through valleys deep and mountains high,  \n",
      "In the silent gaze of the endless sky,  \n",
      "Life's essence blooms in the heart's embrace,  \n",
      "A journey of love, a timeless chase.  \n",
      "\n",
      "In the quiet of night, when shadows play,  \n",
      "Life whispers secrets in a soft ballet.  \n",
      "In every heartbeat, in every breath,  \n",
      "Life dances on, defying death.  \n",
      "\n",
      "For meaning lies not in the end we seek,  \n",
      "But in the moments that make us weak,  \n",
      "In the courage to rise, to fall, to strive,  \n",
      "In the simple truth that we are alive.  \n"
     ]
    }
   ],
   "source": [
    "print(agent_2.context)"
   ]
  },
  {
   "cell_type": "markdown",
   "id": "b4019dd7-b79f-4595-8104-9a47c64e4ba4",
   "metadata": {},
   "source": [
    "Now, if we run the second agent, it will use the context received from the previous agent to generate its output."
   ]
  },
  {
   "cell_type": "code",
   "execution_count": 16,
   "id": "a686cefc-db4f-4eb4-9e93-11bdbdd30d6d",
   "metadata": {},
   "outputs": [
    {
     "name": "stdout",
     "output_type": "stream",
     "text": [
      "Ἐν τῇ ὀρχήστρᾳ τῆς ἕω, ὅπου ψιθυρισμοὶ ὑφαίνονται,  \n",
      "Ἡ ζωή ἀναπτύσσει τὸν ἱστόν αὐτῆς, κλωστῆς διαπλέκονται.  \n",
      "Στιγμαὶ ὡς ἄστρα ἐν τῇ ἀπείρῳ κοσμικῇ θαλάσσῃ,  \n",
      "Ἕκαστον σπινθὴρ θαύματος, ἄγριον καὶ ἐλεύθερον.  \n",
      "\n",
      "Ἐν τῇ ἠχῇ τοῦ γέλωτος καὶ ἐν τῷ δάκρυι τῆς λύπης,  \n",
      "Ἡ ζωή εὑρίσκει τὸ νόημα αὐτῆς, καὶ μακρὰν καὶ ἐγγύς.  \n",
      "Ἐν τῇ ἁπαλῇ ἀφῇ τῆς χειρὸς τοῦ ἐραστοῦ,  \n",
      "Ἐν τοῖς ὀνείροις τοῖς πλανωμένοις ὡς κόκκοι ἄμμου.  \n",
      "\n",
      "Διὰ τῶν κοιλάδων βαθέων καὶ τῶν ὀρέων ὑψηλῶν,  \n",
      "Ἐν τῇ σιωπηλῇ ὄψει τοῦ ἀπείρου οὐρανοῦ,  \n",
      "Ἡ οὐσία τῆς ζωῆς ἀνθεί ἐν τῇ ἀγκαλίᾳ τῆς καρδίας,  \n",
      "Πορεία ἀγάπης, ἀέναος δίωξις.  \n",
      "\n",
      "Ἐν τῇ ἡσυχίᾳ τῆς νυκτός, ὅταν σκιὰι παίζουσι,  \n",
      "Ἡ ζωή ψιθυρίζει μυστικά ἐν ἀπαλῇ ὀρχήστρᾳ.  \n",
      "Ἐν παντὶ κτύπῳ καρδίας, ἐν παντὶ πνοῇ,  \n",
      "Ἡ ζωή ὀρχεῖται, θάνατον ἀψηφῶσα.  \n",
      "\n",
      "Τὸ γὰρ νόημα οὐκ ἔνι ἐν τῷ τέλει ὃ ζητοῦμεν,  \n",
      "Ἀλλ’ ἐν ταῖς στιγμαῖς αἳ ἡμᾶς ἀσθενεῖς ποιοῦσιν,  \n",
      "Ἐν τῷ θάρρει ἀναστῆναι, πεσεῖν, ἐπιδιώκειν,  \n",
      "Ἐν τῇ ἀπλῇ ἀληθείᾳ ὅτι ζῶμεν.  \n"
     ]
    }
   ],
   "source": [
    "print(agent_2.run())"
   ]
  },
  {
   "cell_type": "markdown",
   "id": "eb11c5a8-fc37-42e3-a521-8cf87ae86dbc",
   "metadata": {},
   "source": [
    "## The Crew"
   ]
  },
  {
   "cell_type": "code",
   "execution_count": 17,
   "id": "66c83cc4-87cf-4afc-855b-e5263ad95a71",
   "metadata": {},
   "outputs": [],
   "source": [
    "from magnet.agents.multi_agent.crew import Crew"
   ]
  },
  {
   "cell_type": "code",
   "execution_count": 18,
   "id": "e58d1cbd-3dbb-4a36-8fc8-9b4242a7b1d3",
   "metadata": {},
   "outputs": [],
   "source": [
    "with Crew() as crew:\n",
    "    agent_1 = Agent(\n",
    "        name=\"Poet Agent\",\n",
    "        backstory=\"You are a well-known poet, who enjoys creating high quality poetry.\",\n",
    "        task_description=\"Write a poem about the meaning of life\",\n",
    "        task_expected_output=\"Just output the poem, without any title or introductory sentences\",\n",
    "    )\n",
    "\n",
    "    agent_2 = Agent(\n",
    "        name=\"Poem Translator Agent\",\n",
    "        backstory=\"You are an expert translator especially skilled in Spanish\",\n",
    "        task_description=\"Translate a poem into Spanish\", \n",
    "        task_expected_output=\"Just output the translated poem and nothing else\"\n",
    "    )\n",
    "\n",
    "    agent_3 = Agent(\n",
    "        name=\"Writer Agent\",\n",
    "        backstory=\"You are an expert transcriber, that loves writing poems into txt files\",\n",
    "        task_description=\"You'll receive a Spanish poem in your context. You need to write the poem into './poem.txt' file\",\n",
    "        task_expected_output=\"A txt file containing the greek poem received from the context\",\n",
    "        tools=write_str_to_txt, # type: ignore\n",
    "    )\n",
    "\n",
    "    agent_1 >> agent_2 >> agent_3 # type: ignore"
   ]
  },
  {
   "cell_type": "code",
   "execution_count": 19,
   "id": "b39f70a0-2c91-40c4-ab56-8318cef7ef97",
   "metadata": {},
   "outputs": [
    {
     "name": "stdout",
     "output_type": "stream",
     "text": [
      "\u001b[1m\u001b[36m\n",
      "==================================================\n",
      "\u001b[35mRUNNING AGENT: Poet Agent\n",
      "\u001b[1m\u001b[36m==================================================\n",
      "\n",
      "\u001b[31mIn the cradle of dawn, where whispers reside,  \n",
      "Life unfurls its tapestry, vast and wide.  \n",
      "A dance of shadows and light's gentle grace,  \n",
      "In every heartbeat, a story to trace.  \n",
      "\n",
      "The river of time flows, relentless and true,  \n",
      "Carving the valleys, painting skies blue.  \n",
      "In moments of laughter and tears softly shed,  \n",
      "The essence of being, in silence, is read.  \n",
      "\n",
      "A tapestry woven with threads of the heart,  \n",
      "Each soul a color, a work of fine art.  \n",
      "In the quest for meaning, we wander and roam,  \n",
      "Yet find in each other, a place to call home.  \n",
      "\n",
      "The stars in their wisdom, they twinkle and gleam,  \n",
      "Guiding our spirits through night’s tender dream.  \n",
      "In the dance of existence, both fragile and bright,  \n",
      "We find our purpose in love's gentle light.  \n",
      "\n",
      "For life is a journey, a path to explore,  \n",
      "With mysteries hidden behind every door.  \n",
      "In the embrace of the earth and the sky,  \n",
      "We seek and discover the reasons why.\n",
      "\u001b[1m\u001b[36m\n",
      "==================================================\n",
      "\u001b[35mRUNNING AGENT: Poem Translator Agent\n",
      "\u001b[1m\u001b[36m==================================================\n",
      "\n",
      "\u001b[31mEn la cuna del alba, donde los susurros residen,  \n",
      "La vida despliega su tapiz, vasto y amplio.  \n",
      "Un baile de sombras y la gracia suave de la luz,  \n",
      "En cada latido, una historia que seguir.  \n",
      "\n",
      "El río del tiempo fluye, implacable y verdadero,  \n",
      "Tallando los valles, pintando cielos azules.  \n",
      "En momentos de risa y lágrimas suavemente vertidas,  \n",
      "La esencia del ser, en silencio, se lee.  \n",
      "\n",
      "Un tapiz tejido con hilos del corazón,  \n",
      "Cada alma un color, una obra de arte fina.  \n",
      "En la búsqueda de sentido, vagamos y deambulamos,  \n",
      "Pero encontramos en el otro, un lugar al que llamar hogar.  \n",
      "\n",
      "Las estrellas en su sabiduría, titilan y brillan,  \n",
      "Guiando nuestros espíritus a través del sueño tierno de la noche.  \n",
      "En el baile de la existencia, tanto frágil como brillante,  \n",
      "Encontramos nuestro propósito en la luz suave del amor.  \n",
      "\n",
      "Porque la vida es un viaje, un camino por explorar,  \n",
      "Con misterios ocultos detrás de cada puerta.  \n",
      "En el abrazo de la tierra y el cielo,  \n",
      "Buscamos y descubrimos las razones del porqué.\n",
      "\u001b[1m\u001b[36m\n",
      "==================================================\n",
      "\u001b[35mRUNNING AGENT: Writer Agent\n",
      "\u001b[1m\u001b[36m==================================================\n",
      "\n",
      "\u001b[35m\n",
      "Thought: I need to write the provided Spanish poem into a text file named 'poem.txt'.\n",
      "\u001b[32m\n",
      "Using Tool: write_str_to_txt\n",
      "\u001b[32m\n",
      "Tool call dict: \n",
      "{'name': 'write_str_to_txt', 'arguments': {'string_data': 'En la cuna del alba, donde los susurros residen,  \\nLa vida despliega su tapiz, vasto y amplio.  \\nUn baile de sombras y la gracia suave de la luz,  \\nEn cada latido, una historia que seguir.  \\n\\nEl río del tiempo fluye, implacable y verdadero,  \\nTallando los valles, pintando cielos azules.  \\nEn momentos de risa y lágrimas suavemente vertidas,  \\nLa esencia del ser, en silencio, se lee.  \\n\\nUn tapiz tejido con hilos del corazón,  \\nCada alma un color, una obra de arte fina.  \\nEn la búsqueda de sentido, vagamos y deambulamos,  \\nPero encontramos en el otro, un lugar al que llamar hogar.  \\n\\nLas estrellas en su sabiduría, titilan y brillan,  \\nGuiando nuestros espíritus a través del sueño tierno de la noche.  \\nEn el baile de la existencia, tanto frágil como brillante,  \\nEncontramos nuestro propósito en la luz suave del amor.  \\n\\nPorque la vida es un viaje, un camino por explorar,  \\nCon misterios ocultos detrás de cada puerta.  \\nEn el abrazo de la tierra y el cielo,  \\nBuscamos y descubrimos las razones del porqué.', 'txt_filename': 'poem.txt'}, 'id': 0}\n",
      "Data successfully written to poem.txt\n",
      "\u001b[32m\n",
      "Tool result: \n",
      "None\n",
      "\u001b[34m\n",
      "Observations: {0: None}\n",
      "\u001b[31mThe Spanish poem has been successfully written into 'poem.txt'.\n"
     ]
    }
   ],
   "source": [
    "crew.run()"
   ]
  },
  {
   "cell_type": "code",
   "execution_count": null,
   "id": "0a64e8be",
   "metadata": {},
   "outputs": [],
   "source": []
  }
 ],
 "metadata": {
  "kernelspec": {
   "display_name": "magnet",
   "language": "python",
   "name": "python3"
  },
  "language_info": {
   "codemirror_mode": {
    "name": "ipython",
    "version": 3
   },
   "file_extension": ".py",
   "mimetype": "text/x-python",
   "name": "python",
   "nbconvert_exporter": "python",
   "pygments_lexer": "ipython3",
   "version": "3.11.6"
  }
 },
 "nbformat": 4,
 "nbformat_minor": 5
}
